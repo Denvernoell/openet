{
 "cells": [
  {
   "cell_type": "code",
   "execution_count": null,
   "metadata": {},
   "outputs": [],
   "source": [
    "import tomli\n",
    "config = tomli.load(\"..\\\\config.toml\")"
   ]
  },
  {
   "cell_type": "code",
   "execution_count": 2,
   "metadata": {},
   "outputs": [
    {
     "ename": "ImportError",
     "evalue": "attempted relative import with no known parent package",
     "output_type": "error",
     "traceback": [
      "\u001b[1;31m---------------------------------------------------------------------------\u001b[0m",
      "\u001b[1;31mImportError\u001b[0m                               Traceback (most recent call last)",
      "Cell \u001b[1;32mIn[2], line 1\u001b[0m\n\u001b[1;32m----> 1\u001b[0m \u001b[39mfrom\u001b[39;00m \u001b[39m.\u001b[39;00m\u001b[39m.\u001b[39;00m\u001b[39mopenet\u001b[39;00m\u001b[39m.\u001b[39;00m\u001b[39mclient\u001b[39;00m \u001b[39mimport\u001b[39;00m User\n",
      "\u001b[1;31mImportError\u001b[0m: attempted relative import with no known parent package"
     ]
    }
   ],
   "source": [
    "from openet.client import User"
   ]
  },
  {
   "cell_type": "code",
   "execution_count": null,
   "metadata": {},
   "outputs": [],
   "source": [
    "import geopandas as gpd\n",
    "import json\n",
    "area = gpd.read_file(r'gis\\\\test\\\\trial_field.shp')\n",
    "\n",
    "U = User(\n",
    "\tapi_key=config['openet']['api_key'],\n",
    "\t# monthly_options = {\n",
    "\t# \t\"start_date\": \"2018-01-01\",\n",
    "\t# \t\"end_date\": \"2018-12-31\",\n",
    "\t# \t# \"model\": \"ensemble\",\n",
    "\n",
    "\t# },\n",
    "\t# yearly_options = {\n",
    "\t# \t\"start_date\": \"2018\",\n",
    "\t# \t\"end_date\": \"2018\",\n",
    "\n",
    "\t# },\n",
    "\t# stats_options = {\n",
    "\t# },\n",
    "\toptions = {\n",
    "\t\t\"start_date\": \"2018-01-01\",\n",
    "\t\t\"end_date\": \"2018-03-31\",\n",
    "\t\t\"model\": \"ensemble_mean\",\n",
    "\t\t\"interval\": \"monthly\",\n",
    "\t\t\"units\": \"english\",\n",
    "\t\t\"variable\": \"et\",\n",
    "\t\t\"ref_et_source\": \"cimis\",\n",
    "\t\t'feature_collection_name':\"CA\",\n",
    "\t\t\"output_format\": \"json\",\n",
    "\t\t\"aggregation\":\"mean\",\n",
    "\t\t\"spatial_join_type\": \"intersect\",\n",
    "\t},\n",
    "\tarea = area,\n",
    "\tfields = ['06281665'],\n",
    "\t)\n"
   ]
  },
  {
   "cell_type": "code",
   "execution_count": null,
   "metadata": {},
   "outputs": [],
   "source": [
    "roi = U.field_ids_in_ROI()\n",
    "roi_fields = roi['field_ids']\n",
    "roi_fields\n",
    "#%%\n",
    "field_ids = roi_fields\n",
    "my_obj = {\n",
    "\t\t\"field_ids\": field_ids\n",
    "\t\t}\n",
    "meta = U.get_field_metadata_small(my_obj)\n",
    "meta\n",
    "#%%\n",
    "monthly = U.get_monthly_data(json.dumps(roi_fields))\n",
    "monthly\n",
    "#%%\n",
    "\n",
    "cq = U.check_quota()\n",
    "qc = U.quota_change()\n",
    "qc\n",
    "\n",
    "\n",
    "\n",
    "#%%\n",
    "# \"\"\"If fields known\"\"\"\n",
    "# all_field_ids = pd.read_excel(\n",
    "# \t'field_ids.xlsx',\n",
    "# \tsheet_name='intersect',\n",
    "# \tdtype={'field_ids':str},\n",
    "# \t)['field_ids']\n",
    "# fields = all_field_ids.to_list()\n",
    "# fields[:10]\n",
    "\n",
    "#%%\n",
    "# fields = ['06281665']\n",
    "\n",
    "# json.dumps(fields)\n",
    "\n",
    "# %%\n",
    "\n",
    "field_ids = ['06281665']\n",
    "json.dumps({\"field_ids\": field_ids},indent=1)\n",
    "# %%\n"
   ]
  }
 ],
 "metadata": {
  "kernelspec": {
   "display_name": "Python 3.10.4 ('pandas-analysis-pSGX_PKJ-py3.10')",
   "language": "python",
   "name": "python3"
  },
  "language_info": {
   "codemirror_mode": {
    "name": "ipython",
    "version": 3
   },
   "file_extension": ".py",
   "mimetype": "text/x-python",
   "name": "python",
   "nbconvert_exporter": "python",
   "pygments_lexer": "ipython3",
   "version": "3.10.4"
  },
  "orig_nbformat": 4,
  "vscode": {
   "interpreter": {
    "hash": "017bf9b655c26cc9684d72cf80cbc3448421050109bedaefe1d82803180be393"
   }
  }
 },
 "nbformat": 4,
 "nbformat_minor": 2
}
